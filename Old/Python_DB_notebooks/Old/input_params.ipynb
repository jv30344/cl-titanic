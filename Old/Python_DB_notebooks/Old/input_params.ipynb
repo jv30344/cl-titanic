{
 "cells": [
  {
   "cell_type": "code",
   "execution_count": null,
   "metadata": {},
   "outputs": [],
   "source": [
    "import pandas as pd\n",
    "import numpy as np\n",
    "import sqlite3 as sql\n",
    "import matplotlib as mp\n"
   ]
  },
  {
   "cell_type": "code",
   "execution_count": null,
   "metadata": {},
   "outputs": [],
   "source": [
    "# Create database connection\n",
    "db = \"/Users/bing/CodeLouisville/Python_DB_notebooks/Titanic.db\"\n",
    "# db = 'titanic.db'\n",
    "conn = sql.connect(db)"
   ]
  },
  {
   "cell_type": "code",
   "execution_count": 7,
   "metadata": {
    "collapsed": true
   },
   "outputs": [
    {
     "ename": "TypeError",
     "evalue": "list expected at most 1 arguments, got 3",
     "output_type": "error",
     "traceback": [
      "\u001b[1;31m---------------------------------------------------------------------------\u001b[0m",
      "\u001b[1;31mTypeError\u001b[0m                                 Traceback (most recent call last)",
      "\u001b[1;32m<ipython-input-7-ff8b4de88375>\u001b[0m in \u001b[0;36m<module>\u001b[1;34m\u001b[0m\n\u001b[0;32m      1\u001b[0m \u001b[0mvalid_class\u001b[0m \u001b[1;33m=\u001b[0m \u001b[1;33m{\u001b[0m\u001b[1;36m1\u001b[0m\u001b[1;33m,\u001b[0m\u001b[1;36m2\u001b[0m\u001b[1;33m,\u001b[0m\u001b[1;36m3\u001b[0m\u001b[1;33m,\u001b[0m\u001b[1;34m'ALL'\u001b[0m\u001b[1;33m}\u001b[0m\u001b[1;33m\u001b[0m\u001b[1;33m\u001b[0m\u001b[0m\n\u001b[1;32m----> 2\u001b[1;33m \u001b[0mvalid_gender\u001b[0m \u001b[1;33m=\u001b[0m \u001b[0mlist\u001b[0m\u001b[1;33m(\u001b[0m\u001b[1;34m\"M\"\u001b[0m\u001b[1;33m,\u001b[0m\u001b[1;34m\"F\"\u001b[0m\u001b[1;33m,\u001b[0m \u001b[1;34m\"BOTH\"\u001b[0m\u001b[1;33m)\u001b[0m\u001b[1;33m\u001b[0m\u001b[1;33m\u001b[0m\u001b[0m\n\u001b[0m\u001b[0;32m      3\u001b[0m \u001b[0mvalid_age\u001b[0m \u001b[1;33m=\u001b[0m \u001b[0mlist\u001b[0m\u001b[1;33m(\u001b[0m\u001b[0mrange\u001b[0m\u001b[1;33m(\u001b[0m\u001b[1;36m0\u001b[0m\u001b[1;33m,\u001b[0m \u001b[1;36m100\u001b[0m\u001b[1;33m)\u001b[0m\u001b[1;33m)\u001b[0m\u001b[1;33m\u001b[0m\u001b[1;33m\u001b[0m\u001b[0m\n\u001b[0;32m      4\u001b[0m \u001b[0mvalid_survived\u001b[0m \u001b[1;33m=\u001b[0m \u001b[0mlist\u001b[0m\u001b[1;33m(\u001b[0m\u001b[1;36m0\u001b[0m\u001b[1;33m,\u001b[0m\u001b[1;36m1\u001b[0m\u001b[1;33m,\u001b[0m\u001b[1;34m\"NONE\"\u001b[0m\u001b[1;33m)\u001b[0m\u001b[1;33m\u001b[0m\u001b[1;33m\u001b[0m\u001b[0m\n",
      "\u001b[1;31mTypeError\u001b[0m: list expected at most 1 arguments, got 3"
     ]
    }
   ],
   "source": [
    "valid_class = {1,2,3,'ALL'}\n",
    "valid_gender = list(\"M\",\"F\", \"BOTH\")\n",
    "valid_age = list(range(0, 100))\n",
    "valid_survived = list(0,1,\"NONE\")"
   ]
  },
  {
   "cell_type": "code",
   "execution_count": 4,
   "metadata": {},
   "outputs": [
    {
     "name": "stdout",
     "output_type": "stream",
     "text": [
      "Build query to display Titanic passenger data\n",
      "\n",
      "Parameters allowed are:\n",
      " \n",
      "   Class: [1, 2, 3, or ALL] Example: 1,2 or 1,3 or ALL or just hit the 'Enter' key for ALL \n",
      "  Gender: [M, F, or BOTH]  Example: M, BOTH, or just hit the 'Enter' key for BOTH\n",
      "     Age: [Enter an age, a string of ages separated by commas, or ALL]  or just hit the 'Enter' key for ALL\n",
      "Survived: [Y, N, or BOTH]  Example: Y BOTH or just hit the 'Enter' key for BOTH\n",
      "\n",
      "                      Enter Class(s), or press 'Enter' for all Classes: all\n",
      "                       Enter Gender, or press 'Enter' for both Genders: \n",
      "Enter list of ages separated by a comma, or press 'Enter' for all Ages: 1,2,4,20\n",
      "Enter whether you want data from passengers that survived[Y] or not[N] or press 'Enter' for both\n"
     ]
    }
   ],
   "source": [
    "print(\"Build query to display Titanic passenger data\")\n",
    "print()\n",
    "print(\"Parameters allowed are:\")\n",
    "print(\" \")\n",
    "print(\"   Class: [1, 2, 3, or ALL] Example: 1,2 or 1,3 or ALL or just hit the 'Enter' key for ALL \")\n",
    "print(\"  Gender: [M, F, or BOTH]  Example: M, BOTH, or just hit the 'Enter' key for BOTH\")\n",
    "print(\"     Age: [Enter an age, a string of ages separated by commas, or ALL]  or just hit the 'Enter' key for ALL\")\n",
    "print(\"Survived: [Y, N, or BOTH]  Example: Y BOTH or just hit the 'Enter' key for BOTH\")\n",
    "print(\"\")\n",
    "\n",
    "class_in_string =    \"                      Enter Class(s), or press 'Enter' for all Classes: \"\n",
    "gender_in_string =   \"                       Enter Gender, or press 'Enter' for both Genders: \"\n",
    "age_in_string =      \"Enter list of ages separated by a comma, or press 'Enter' for all Ages: \"\n",
    "survived_in_string = \"Enter whether you want data from passengers that survived[Y] or not[N] or press 'Enter' for both\"\n",
    "\n",
    "\n",
    "\n",
    "\n",
    "in_class =    input(class_in_string)\n",
    "in_class = upper(in_class)\n",
    "if in_class is null:\n",
    "    in_class = 'ALL'\n",
    "    \n",
    "in_gender =   input(gender_in_string)\n",
    "if in_gender is null:\n",
    "    in_gender = 'BOTH'\n",
    "    \n",
    "in_age =      input(age_in_string)\n",
    "if upper(in_age) is null:\n",
    "    in_age = 'ALL'\n",
    "elsif:\n",
    "    upper(in_age\n",
    "    \n",
    "in_survived = input(survived_in_string)\n",
    "if in_survived is null:\n",
    "    in_survived = 'ALL'\n",
    "\n"
   ]
  },
  {
   "cell_type": "code",
   "execution_count": null,
   "metadata": {},
   "outputs": [],
   "source": [
    "# Build SQL based on the input given\n"
   ]
  },
  {
   "cell_type": "code",
   "execution_count": null,
   "metadata": {},
   "outputs": [],
   "source": []
  },
  {
   "cell_type": "code",
   "execution_count": null,
   "metadata": {},
   "outputs": [],
   "source": [
    "query = '''\n",
    "SELECT pl_class.*\n",
    "FROM passenger_list pl_class,\n",
    "   passenger_list pl_gender,\n",
    "   passenger_list pl_age,\n",
    "   passenger_list pl_survived\n",
    "WHERE pl_class.id = pl_gender.Id \n",
    "   AND pl_class.id = pl_age.Id \n",
    "   AND pl_class.Id = pl_survived.id \n",
    "   AND pl_class.class = \n",
    "   AND pl_gender.gender = 'M' \n",
    "   AND pl_age.age BETWEEN 20 AND 40 \n",
    "   AND NOT pl_survived.Survived;'''"
   ]
  }
 ],
 "metadata": {
  "kernelspec": {
   "display_name": "Python 3",
   "language": "python",
   "name": "python3"
  },
  "language_info": {
   "codemirror_mode": {
    "name": "ipython",
    "version": 3
   },
   "file_extension": ".py",
   "mimetype": "text/x-python",
   "name": "python",
   "nbconvert_exporter": "python",
   "pygments_lexer": "ipython3",
   "version": "3.7.1"
  }
 },
 "nbformat": 4,
 "nbformat_minor": 2
}
