{
 "cells": [
  {
   "cell_type": "code",
   "execution_count": 1,
   "metadata": {},
   "outputs": [],
   "source": [
    "import pandas as pd\n",
    "import numpy as np\n",
    "import sqlite3 as sql\n",
    "import matplotlib as mp\n"
   ]
  },
  {
   "cell_type": "code",
   "execution_count": 2,
   "metadata": {},
   "outputs": [],
   "source": [
    "# Create database connection\n",
    "db = 'D:/Users/bing/codeLouisville/Database/Titanic.db'\n",
    "conn = sql.connect(db)"
   ]
  },
  {
   "cell_type": "code",
   "execution_count": 3,
   "metadata": {},
   "outputs": [],
   "source": [
    "valid_class = [1,2,3]\n",
    "valid_gender = [\"M\",\"F\"]\n",
    "valid_age = [range(0, 100)]\n",
    "valid_survived = [0,1]"
   ]
  },
  {
   "cell_type": "code",
   "execution_count": 4,
   "metadata": {},
   "outputs": [
    {
     "ename": "SyntaxError",
     "evalue": "invalid syntax (<ipython-input-4-6114172607c2>, line 31)",
     "output_type": "error",
     "traceback": [
      "\u001b[1;36m  File \u001b[1;32m\"<ipython-input-4-6114172607c2>\"\u001b[1;36m, line \u001b[1;32m31\u001b[0m\n\u001b[1;33m    elif:\u001b[0m\n\u001b[1;37m        ^\u001b[0m\n\u001b[1;31mSyntaxError\u001b[0m\u001b[1;31m:\u001b[0m invalid syntax\n"
     ]
    }
   ],
   "source": [
    "print(\"Build query to display Titanic passenger data\")\n",
    "print()\n",
    "print(\"Parameters allowed are:\")\n",
    "print(\" \")\n",
    "print(\"   Class: [1, 2, 3, or ALL] Example: 1,2 or 1,3 or ALL or just hit the 'Enter' key for ALL \")\n",
    "print(\"  Gender: [M, F, or BOTH]  Example: M, BOTH, or just hit the 'Enter' key for BOTH\")\n",
    "print(\"     Age: [Enter an age, a string of ages separated by commas, or ALL]  or just hit the 'Enter' key for ALL\")\n",
    "print(\"Survived: [Y, N, or BOTH]  Example: Y BOTH or just hit the 'Enter' key for BOTH\")\n",
    "print(\"\")\n",
    "\n",
    "class_in_string =    \"                      Enter Class(s), or press 'Enter' for all Classes: \"\n",
    "gender_in_string =   \"                       Enter Gender, or press 'Enter' for both Genders: \"\n",
    "age_in_string =      \"Enter list of ages separated by a comma, or press 'Enter' for all Ages: \"\n",
    "survived_in_string = \"Enter whether you want data from passengers that survived[Y] or not[N] or press 'Enter' for both\"\n",
    "\n",
    "\n",
    "in_class =    input(class_in_string)\n",
    "in_class = upper(in_class)\n",
    "if in_class is null:\n",
    "    in_class = [1, 2, 3]\n",
    "    \n",
    "in_gender =   input(gender_in_string)\n",
    "if in_gender is null:\n",
    "    in_gender = '(\"M\", \"F\")'\n",
    "    \n",
    "in_age =      input(age_in_string)\n",
    "if upper(in_age) is null:\n",
    "    in_age = 'ALL'\n",
    "elif:\n",
    "    upper(in_age)\n",
    "    \n",
    "in_survived = input(survived_in_string)\n",
    "if in_survived is null:\n",
    "    in_survived = 'ALL'\n",
    "\n"
   ]
  },
  {
   "cell_type": "code",
   "execution_count": null,
   "metadata": {},
   "outputs": [],
   "source": [
    "# Build SQL based on the input given\n"
   ]
  },
  {
   "cell_type": "code",
   "execution_count": null,
   "metadata": {},
   "outputs": [],
   "source": []
  },
  {
   "cell_type": "code",
   "execution_count": null,
   "metadata": {},
   "outputs": [],
   "source": [
    "query = '''\n",
    "SELECT pl_class.*\n",
    "FROM passenger_list pl_class,\n",
    "   passenger_list pl_gender,\n",
    "   passenger_list pl_age,\n",
    "   passenger_list pl_survived\n",
    "WHERE pl_class.id = pl_gender.Id \n",
    "   AND pl_class.id = pl_age.Id \n",
    "   AND pl_class.Id = pl_survived.id \n",
    "   AND pl_class.class = \n",
    "   AND pl_gender.gender = 'M' \n",
    "   AND pl_age.age BETWEEN 20 AND 40 \n",
    "   AND NOT pl_survived.Survived;'''"
   ]
  }
 ],
 "metadata": {
  "kernelspec": {
   "display_name": "Python 3",
   "language": "python",
   "name": "python3"
  },
  "language_info": {
   "codemirror_mode": {
    "name": "ipython",
    "version": 3
   },
   "file_extension": ".py",
   "mimetype": "text/x-python",
   "name": "python",
   "nbconvert_exporter": "python",
   "pygments_lexer": "ipython3",
   "version": "3.7.1"
  }
 },
 "nbformat": 4,
 "nbformat_minor": 2
}
