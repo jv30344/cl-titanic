{
 "cells": [
  {
   "cell_type": "code",
   "execution_count": 3,
   "metadata": {},
   "outputs": [
    {
     "ename": "SyntaxError",
     "evalue": "invalid syntax (<ipython-input-3-aaf374b3c57d>, line 42)",
     "output_type": "error",
     "traceback": [
      "\u001b[1;36m  File \u001b[1;32m\"<ipython-input-3-aaf374b3c57d>\"\u001b[1;36m, line \u001b[1;32m42\u001b[0m\n\u001b[1;33m    A [label=\"King Arthur\"]\u001b[0m\n\u001b[1;37m            ^\u001b[0m\n\u001b[1;31mSyntaxError\u001b[0m\u001b[1;31m:\u001b[0m invalid syntax\n"
     ]
    }
   ],
   "source": [
    "\n",
    "\n",
    "import pandas as pd\n",
    "import numpy as np\n",
    "import sqlite3 as sql\n",
    "import sklearn\n",
    "from graphviz import Digraph\n",
    "\n",
    "\n",
    "\n",
    "# Create database connection\n",
    "db = 'c:/CL-Project/Database/titanic.db'\n",
    "conn = sql.connect(db)\n",
    "\n",
    "\n",
    "\n",
    "# Create a graph object...\n",
    "\n",
    "dot = Digraph(comment='The Round Table')\n",
    "\n",
    "dot  #doctest: +ELLIPSIS\n",
    "graphviz.dot.Digraph \n",
    "\n",
    "\n",
    "\n",
    "# Add nodes and edges...\n",
    "\n",
    "dot.node('A', 'King Arthur')\n",
    "dot.node('B', 'Sir Bedevere the Wise')\n",
    "dot.node('L', 'Sir Lancelot the Brave')\n",
    "\n",
    "dot.edges(['AB', 'AL'])\n",
    "dot.edge('B', 'L', constraint='false')\n",
    "\n",
    "\n",
    "\n",
    "# Check the generated source code...\n",
    "\n",
    "print(dot.source)  # doctest: +NORMALIZE_WHITESPACE\n",
    "# The Round Table\n",
    "digraph [\n",
    "    A [label=\"King Arthur\"]\n",
    "    B [label=\"Sir Bedevere the Wise\"]\n",
    "    L [label=\"Sir Lancelot the Brave\"]\n",
    "    A -> B\n",
    "    A -> L\n",
    "    B -> L [constraint=false]\n",
    "]\n",
    "\n",
    "\n",
    "\n",
    "# Save and render the source code, optionally view the result...\n",
    "dot.render('round-table.gv', view=True)  # doctest: +SKIP\n",
    "'round-table.gv.pdf'\n",
    "\n",
    "\n",
    "\n",
    "print(sys.path)\n",
    "\n",
    "\n",
    "\n",
    "valid_class = {1,2,3}\n",
    "valid_gender = list(\"M\",\"F\")\n",
    "valid_age = list(range(0, 100))\n",
    "valid_survived = list(0,1)\n",
    "\n",
    "\n"
   ]
  },
  {
   "cell_type": "code",
   "execution_count": null,
   "metadata": {},
   "outputs": [],
   "source": []
  }
 ],
 "metadata": {
  "kernelspec": {
   "display_name": "Python 3",
   "language": "python",
   "name": "python3"
  },
  "language_info": {
   "codemirror_mode": {
    "name": "ipython",
    "version": 3
   },
   "file_extension": ".py",
   "mimetype": "text/x-python",
   "name": "python",
   "nbconvert_exporter": "python",
   "pygments_lexer": "ipython3",
   "version": "3.7.1"
  }
 },
 "nbformat": 4,
 "nbformat_minor": 2
}
