{
 "cells": [
  {
   "cell_type": "code",
   "execution_count": null,
   "metadata": {
    "scrolled": false
   },
   "outputs": [],
   "source": [
    "import re\n",
    "import io\n",
    "import ipywidgets as widgets\n",
    "import pandas as pd\n",
    "import numpy as np\n",
    "import sqlite3 as sql\n",
    "\n",
    "def get_input_string(in_display_prompt, \n",
    "                     in_valid_responses, \n",
    "                     in_default_response, \n",
    "                     out_return_response):\n",
    "    #\n",
    "    try:\n",
    "        display_prompt = (in_display_prompt + \n",
    "                          in_valid_responses + \n",
    "                          in_default_response + \"')\")\n",
    "        #\n",
    "        valid_input = in_valid_responses\n",
    "        in_response = in_default_response\n",
    "        #\n",
    "        try:\n",
    "            valid_response = False\n",
    "            string_entered = input(display_prompt)\n",
    "            for i in in_valid_responses:\n",
    "                if string_entered = valid_responses[i]:\n",
    "                    valid_response = True\n",
    "                    break\n",
    "                    \n",
    "            return valid_response\n",
    "        \n",
    "#--------------------------------------------------------------        \n",
    "\n",
    "in_display_prompt = \"Do you want to use age in your selection criteria? \"\n",
    "in_valid_responses = \"[Y,y,N,n]\"\n",
    "in_default_response = \"N\"\n",
    "out_return_response = \"\"\n",
    "\n",
    "in_display_prompt += in_valid_responses + \".  Default is [\" + in_default_response + \"]\"\n",
    "\n",
    "get_input_string(in_display_prompt,\n",
    "                 in_valid_responses,\n",
    "                 in_default_response,\n",
    "                 out_return_response)\n",
    "print(\"  in_display_prompt - \" += in_display_prompt)\n",
    "print(\" in_valid_responses - \" += in_valid_responses)\n",
    "print(\"in_default_response - \" += in_default_response)\n",
    "print(\"out_return_response - \" += out_return_response)\n",
    "    \n",
    "\n",
    "# def valid_in(yn_response):\n",
    "#     try:\n",
    "#         input(\"Please enter a response ('Y','y','N','n','' (defaults to 'N'))\")\n",
    "#         for i in valid_input:\n",
    "#             if valid_input[i] == check_input:\n",
    "#                 str_entered = True\n",
    "#                 break\n",
    "#         return str_entered\n",
    "#     except ValueError:\n",
    "#         str_entered = False\n",
    "\n",
    "# check_input = valid_in(yn_response)\n",
    "# if str_entered:\n",
    "#     print(\"What it is?\")\n",
    "    \n",
    "# valid_in()"
   ]
  },
  {
   "cell_type": "code",
   "execution_count": null,
   "metadata": {},
   "outputs": [],
   "source": []
  }
 ],
 "metadata": {
  "kernelspec": {
   "display_name": "Python 3",
   "language": "python",
   "name": "python3"
  },
  "language_info": {
   "codemirror_mode": {
    "name": "ipython",
    "version": 3
   },
   "file_extension": ".py",
   "mimetype": "text/x-python",
   "name": "python",
   "nbconvert_exporter": "python",
   "pygments_lexer": "ipython3",
   "version": "3.7.1"
  }
 },
 "nbformat": 4,
 "nbformat_minor": 2
}
