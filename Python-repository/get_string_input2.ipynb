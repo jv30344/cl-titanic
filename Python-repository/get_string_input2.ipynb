{
 "cells": [
  {
   "cell_type": "code",
   "execution_count": 12,
   "metadata": {},
   "outputs": [
    {
     "name": "stdout",
     "output_type": "stream",
     "text": [
      "Do you want to use age in your selection criteria? y\n",
      "i=[\n",
      "<class 'str'>\n",
      "out_response_entered=y\n",
      "THERE WAS A PROBLEM: can only concatenate str (not \"type\") to str\n",
      "<class 'TypeError'> <ipython-input-12-17551fbcce7f> 29\n"
     ]
    }
   ],
   "source": [
    "# from __future__ import print_function\n",
    "import sys\n",
    "import os\n",
    "import traceback\n",
    "import ipywidgets as widgets\n",
    "from ipywidgets import interact, interactive, fixed, interact_manual\n",
    "import io\n",
    "import pandas as pd\n",
    "import numpy as np\n",
    "import sqlite3 as sql\n",
    "\n",
    "#\n",
    "# Get and validate user input using the prompt sent into this function\n",
    "#\n",
    "def build_input_string(in_called_from_code,\n",
    "                       in_display_prompt,\n",
    "                       in_valid_responses,\n",
    "                       in_default_response,\n",
    "                       out_response_entered,\n",
    "                       out_is_this_valid_response):\n",
    "    #\n",
    "    try:\n",
    "        out_is_this_valid_response = False\n",
    "        out_response_entered = input(in_display_prompt)\n",
    "        for i in in_valid_responses:\n",
    "            print(\"i=\"+i)\n",
    "            print(type(i))\n",
    "            print(\"out_response_entered=\"+out_response_entered)\n",
    "            print(\"type(i)   \"+strtype(i))\n",
    "            \n",
    "            if out_response_entered == in_valid_responses[i]:\n",
    "                out_is_this_valid_response = True\n",
    "                break\n",
    "\n",
    "        if not out_is_this_valid_response:\n",
    "            print(\"Invalid response entered... [\" + out_response_entered + \"] Try again.\")\n",
    "\n",
    "    except Exception as e:\n",
    "        print(\"THERE WAS A PROBLEM: %s\" % (e))\n",
    "        exc_type, exc_obj, exc_tb = sys.exc_info()\n",
    "        fname = os.path.split(exc_tb.tb_frame.f_code.co_filename)[1]\n",
    "        print(exc_type, fname, exc_tb.tb_lineno)\n",
    "\n",
    "#--------------------------------------------------------------        \n",
    "\n",
    "in_called_from_code = \"AgeWanted01\"\n",
    "in_display_prompt = \"Do you want to use age in your selection criteria? \"\n",
    "in_valid_responses = \"[Y,y,N,n]\"\n",
    "in_default_response = \"N\"\n",
    "out_response_entered = 0\n",
    "out_is_this_valid_response = False\n",
    "\n",
    "try:\n",
    "\n",
    "    in_display_prompt + in_valid_responses + \".  Default is [\" + in_default_response + \"]\"\n",
    "\n",
    "    build_input_string(in_called_from_code,\n",
    "                       in_display_prompt,\n",
    "                       in_valid_responses,\n",
    "                       in_default_response,\n",
    "                       out_response_entered,\n",
    "                       out_is_this_valid_response)\n",
    "    \n",
    "except Exception as e:\n",
    "    print(\"There was a problem: %s\" % (e))\n",
    "    exc_type, exc_obj, exc_tb = sys.exc_info()\n",
    "    fname = os.path.split(exc_tb.tb_frame.f_code.co_filename)[1]\n",
    "    print(exc_type, fname, exc_tb.tb_lineno)\n",
    "\n",
    "    if not out_is_this_valid_response:\n",
    "        print(\"Error\")\n",
    "        print(\"       in_called_from_code - \" + in_called_from_code)\n",
    "        print(\"         in_display_prompt - \" + in_display_prompt)\n",
    "        print(\"        in_valid_responses - \" + in_valid_responses)\n",
    "        print(\"       in_default_response - \" + in_default_response)\n",
    "        print(\"       out_return_response - \" + out_response_entered)\n",
    "        print(\"out_is_this_valid_response - \" + out_is_this_valid_response)\n",
    "        print(\"Data returned not valid or other error occurred\")\n",
    "        sys.exit(0)"
   ]
  },
  {
   "cell_type": "code",
   "execution_count": 4,
   "metadata": {},
   "outputs": [],
   "source": [
    "# def valid_in(yn_response):\n",
    "#     try:\n",
    "#         input(\"Please enter a response ('Y','y','N','n','' (defaults to 'N'))\")\n",
    "#         for i in valid_input:\n",
    "#             if valid_input[i] == check_input:\n",
    "#                 str_entered = True\n",
    "#                 break\n",
    "#         return str_entered\n",
    "#     except ValueError:\n",
    "#         str_entered = False\n",
    "\n",
    "# check_input = valid_in(yn_response)\n",
    "# if str_entered:\n",
    "#     print(\"What it is?\")\n",
    "    \n",
    "# valid_in()"
   ]
  },
  {
   "cell_type": "code",
   "execution_count": null,
   "metadata": {},
   "outputs": [],
   "source": [
    "y\n"
   ]
  }
 ],
 "metadata": {
  "kernelspec": {
   "display_name": "Python 3",
   "language": "python",
   "name": "python3"
  },
  "language_info": {
   "codemirror_mode": {
    "name": "ipython",
    "version": 3
   },
   "file_extension": ".py",
   "mimetype": "text/x-python",
   "name": "python",
   "nbconvert_exporter": "python",
   "pygments_lexer": "ipython3",
   "version": "3.7.1"
  }
 },
 "nbformat": 4,
 "nbformat_minor": 2
}
