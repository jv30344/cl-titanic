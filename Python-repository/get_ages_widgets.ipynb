{
 "cells": [
  {
   "cell_type": "code",
   "execution_count": 1,
   "metadata": {},
   "outputs": [],
   "source": [
    "#!/usr/bin/python\n",
    "from ipywidgets import *\n",
    "from IPython.display import display\n",
    "# w = IntSlider()\n",
    "# display(w, w)\n",
    "\n",
    "import re\n",
    "import io\n",
    "import ipywidgets as widgets\n",
    "import pandas as pd\n",
    "import numpy as np\n",
    "import sqlite3 as sql\n",
    "\n",
    "#\n",
    "# Acceptable input values...\n",
    "#\n",
    "acceptable_yn =[\"Y\",\"y\",\"N\",\"n\",\"\"]\n",
    "age_range_wanted = \"\"\n",
    "f_start_age = int(0)\n",
    "f_end_age = int(100)\n",
    "\n"
   ]
  },
  {
   "cell_type": "code",
   "execution_count": 2,
   "metadata": {},
   "outputs": [],
   "source": [
    "#\n",
    "# 1) Allow for entry of a age range (beginning and/or end), or \"Enter\" to bypass the step (Both the begin and end ages\n",
    "#    will need to be bypassed in order for age to be skipped)\n",
    "#\n",
    "# 2)   Allow for Entry of a beginning age only and the process should start at that age and go through age 100\n",
    "#\n",
    "# 3) Allow for entry of an end date only, and the process should start at 0 and go up to and be inclusive of the \n",
    "#    end age entered\n",
    "#\n",
    "# 4) If no ages entered, then selection will not check for any age range\n",
    "#\n",
    "# 5) Allow for entry of individual ages that are not in a range.  The process will not allow entry of individual ages\n",
    "#    that are already included in the age range parameters\n",
    "#\n",
    "# 6) After all ages are entered, a check for duplicates will be done and that data will be stripped from the age \n",
    "#    parameters\n",
    "#\n",
    "#"
   ]
  },
  {
   "cell_type": "code",
   "execution_count": 3,
   "metadata": {},
   "outputs": [
    {
     "name": "stdout",
     "output_type": "stream",
     "text": [
      "Enter input: y\n",
      "in_yn: y\n"
     ]
    }
   ],
   "source": [
    "#def get_range_ages():\n",
    "#\n",
    "# Find out if user wants to use age criteria\n",
    "#\n",
    "pattern = \"[YyNn]\"\n",
    "age_range_wanted = eval(acceptable_yn(raw_input('Do you want to use age in the selection criteria (\"y/N (default is NO)\"): ')\n",
    "if age_range_wanted.match(pattern, in_yn):   ###### age_range_wanted must be checked against pattern, not in_yn\n",
    "    print('in_yn: '+in_yn)\n",
    "# else:\n",
    "#   your code heretry:\n",
    "#    age_range_wanted = eval(acceptable_yn(raw_input('Do you want to use age in the selection criteria (\"y/N (default is NO)\"): ')))\n",
    "#    print(age_range_wanted)"
   ]
  },
  {
   "cell_type": "code",
   "execution_count": 4,
   "metadata": {},
   "outputs": [
    {
     "ename": "NameError",
     "evalue": "name 'age_range_wanted' is not defined",
     "output_type": "error",
     "traceback": [
      "\u001b[1;31m---------------------------------------------------------------------------\u001b[0m",
      "\u001b[1;31mNameError\u001b[0m                                 Traceback (most recent call last)",
      "\u001b[1;32m<ipython-input-4-265a224d247b>\u001b[0m in \u001b[0;36m<module>\u001b[1;34m\u001b[0m\n\u001b[1;32m----> 1\u001b[1;33m \u001b[1;32mif\u001b[0m \u001b[1;33m(\u001b[0m\u001b[0mage_range_wanted\u001b[0m\u001b[1;33m)\u001b[0m \u001b[1;33m==\u001b[0m \u001b[1;34m\"\"\u001b[0m\u001b[1;33m:\u001b[0m\u001b[1;33m\u001b[0m\u001b[1;33m\u001b[0m\u001b[0m\n\u001b[0m\u001b[0;32m      2\u001b[0m     \u001b[0mage_range_wanted\u001b[0m \u001b[1;33m=\u001b[0m \u001b[1;34m'N'\u001b[0m\u001b[1;33m\u001b[0m\u001b[1;33m\u001b[0m\u001b[0m\n\u001b[0;32m      3\u001b[0m \u001b[1;33m\u001b[0m\u001b[0m\n\u001b[0;32m      4\u001b[0m \u001b[1;32mif\u001b[0m \u001b[1;33m(\u001b[0m\u001b[0mage_range_wanted\u001b[0m\u001b[1;33m.\u001b[0m\u001b[0mupper\u001b[0m\u001b[1;33m(\u001b[0m\u001b[1;33m)\u001b[0m\u001b[1;33m.\u001b[0m\u001b[0mstartswith\u001b[0m\u001b[1;33m(\u001b[0m\u001b[1;34m\"Y\"\u001b[0m\u001b[1;33m)\u001b[0m\u001b[1;33m)\u001b[0m\u001b[1;33m:\u001b[0m\u001b[1;33m\u001b[0m\u001b[1;33m\u001b[0m\u001b[0m\n\u001b[0;32m      5\u001b[0m     \u001b[0mage_range_wanted\u001b[0m \u001b[1;33m=\u001b[0m \u001b[1;34m\"Yes\"\u001b[0m\u001b[1;33m\u001b[0m\u001b[1;33m\u001b[0m\u001b[0m\n",
      "\u001b[1;31mNameError\u001b[0m: name 'age_range_wanted' is not defined"
     ]
    }
   ],
   "source": [
    "    if (age_range_wanted) == \"\":\n",
    "        age_range_wanted = 'N'\n",
    "        \n",
    "    if (age_range_wanted.upper().startswith(\"Y\")):\n",
    "        age_range_wanted = \"Yes\"\n",
    "    else:\n",
    "        age_range_wanted = \"No\"\n",
    "\n",
    "    print(len(\"age_range_wanted = \") + age_range_wanted)\n"
   ]
  },
  {
   "cell_type": "code",
   "execution_count": null,
   "metadata": {},
   "outputs": [],
   "source": [
    "    #\n",
    "    # Get starting age..\n",
    "    #\n",
    "    if age_range_wanted.upper().startswith(\"Y\"):\n",
    "        try:\n",
    "            start_range = input('Enter the starting age (\"Press ENTER for starting age 0\"): ')\n",
    "        except ValueError:\n",
    "            try:\n",
    "                int(start_range)\n",
    "            except ValueError:\n",
    "                float(start_range)\n",
    "            except ValueError:\n",
    "                if start_range != \"\":\n",
    "                    print(\"This is not a number or a null value.  Try again...\")\n",
    "                else:\n",
    "                    start_range = 0\n",
    "except ValueError:\n",
    "    print('Start date process complete')\n",
    "\n"
   ]
  },
  {
   "cell_type": "code",
   "execution_count": null,
   "metadata": {},
   "outputs": [],
   "source": [
    "#\n",
    "# Get ending age..\n",
    "#\n",
    "if age_range_wanted.startswith().upper() == 'Y':\n",
    "    try:\n",
    "        end_range = eval(input('Enter the Ending age (Press ENTER for MAX age of 100): '))\n",
    "    except ValueError:\n",
    "        try:\n",
    "            int(end_range)\n",
    "        except ValueError:\n",
    "            float(end_range)\n",
    "        except ValueError:\n",
    "            if end_range != \"\":\n",
    "                print(\"This is not a number or a null value.  Try again...\")\n",
    "            else:\n",
    "                end_range = 0\n",
    "\n",
    "except ValueError:\n",
    "    print('Ending date process complete')\n"
   ]
  },
  {
   "cell_type": "code",
   "execution_count": null,
   "metadata": {},
   "outputs": [],
   "source": [
    "#\n",
    "#start_range = 0\n",
    "#end_range = 64\n",
    "#\n",
    "# Allow a list of individual ages to also be entered\n",
    "#\n",
    "#data_in = [27,55,23,70]\n",
    "#total_ages = data_in + list(range(start_range, end_range + 1))\n",
    "#\n",
    "# Since there are two sets of ages, we must remove any duplicates\n",
    "#\n",
    "entered_ages = list(set(total_ages))\n",
    "entered_ages.sort()\n",
    "# total_ages.sort()\n",
    "# print(total_ages)\n",
    "print(entered_ages)\n"
   ]
  },
  {
   "cell_type": "code",
   "execution_count": null,
   "metadata": {},
   "outputs": [],
   "source": []
  }
 ],
 "metadata": {
  "kernelspec": {
   "display_name": "Python 3",
   "language": "python",
   "name": "python3"
  },
  "language_info": {
   "codemirror_mode": {
    "name": "ipython",
    "version": 3
   },
   "file_extension": ".py",
   "mimetype": "text/x-python",
   "name": "python",
   "nbconvert_exporter": "python",
   "pygments_lexer": "ipython3",
   "version": "3.7.1"
  }
 },
 "nbformat": 4,
 "nbformat_minor": 2
}
