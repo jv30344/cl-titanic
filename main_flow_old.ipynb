{
 "cells": [
  {
   "cell_type": "code",
   "execution_count": null,
   "metadata": {},
   "outputs": [],
   "source": [
    "#\n",
    "# This project is based on data from several different sources containing passenger data from the Titanic.\n",
    "# I've worked hard to make sure that it's as correct as can be.\n",
    "# \n",
    "# Set up necessary things to run the process.\n",
    "#####################################################\n",
    "# Default directory on my PC..  --> C:/CL-Project\n",
    "#\n",
    "# Things to do in this process\n",
    "#\n",
    "#  1) Load everything from Github down to directory C:/CL-Project\n",
    "#  2) Install Sqlite\n",
    "#\n",
    "import csv\n",
    "import sqlite3\n",
    "import pandas as pd\n",
    "import seaborn as sns\n",
    "import os\n",
    "#"
   ]
  },
  {
   "cell_type": "code",
   "execution_count": null,
   "metadata": {},
   "outputs": [],
   "source": [
    "dbDir = \"C:/CL-Project/\"\n",
    "dbName = \"Titanic.db\"\n",
    "db = dbDir + dbName\n",
    "print(\"Database - \" + db)"
   ]
  },
  {
   "cell_type": "code",
   "execution_count": null,
   "metadata": {},
   "outputs": [],
   "source": [
    "#\n",
    "# Create the Database file\n",
    "#\n",
    "print(\"Creating the database\")\n",
    "sqlite3 db\n",
    "print(\"Database Created\")"
   ]
  },
  {
   "cell_type": "code",
   "execution_count": null,
   "metadata": {},
   "outputs": [],
   "source": [
    "#\n",
    "# This cell is going to create the SQLite database for us to process..  \n",
    "#\n",
    "conn = sqlite3.connect(db)\n",
    "cur = conn.cursor()\n",
    ".read titanic_db_import.sql"
   ]
  },
  {
   "cell_type": "code",
   "execution_count": null,
   "metadata": {},
   "outputs": [],
   "source": [
    "#\n",
    "# The age of the passengers.  If the passenger was less than a year old, then a fraction showing the age is displayed\n",
    "# Under one year calculation is as follows:\n",
    "# y = 1 (year)\n",
    "# y / 12 = .0833333333333333 (1 month)\n",
    "# \n",
    "# crew - 0 - no, 1 - yes\n",
    "df = pd.read_sql_query(\"select * from titanic_passenger_list;\", conn)\n",
    "#\n",
    "print ( \"Selecting all passengers and crew members  \")\n",
    "#\n",
    "# Gender\n",
    "#\n",
    "\n",
    "df[\"gender\"] = df[\"gender\"].astype(str)"
   ]
  },
  {
   "cell_type": "code",
   "execution_count": null,
   "metadata": {},
   "outputs": [],
   "source": [
    "#\n",
    "# survived - 0 = no, 1 = yes\n",
    "#\n",
    "df[\"survived\"] = df[\"survived\"].astype(bool)\n",
    "#\n",
    "# Age - 1-99\n",
    "#\n",
    "df[\"age\"] = df[\"age\"].astype(int)\n",
    "#\n",
    "# passenger - 0 - not a passenger, but a crew member, 1 - a passenger, not a crew member\n",
    "#\n",
    "df[\"passenger\"] = df[\"passenger\"].astype(bool)\n",
    "#\n",
    "# crew - 0 - not a member of the crew, 1 - Yes, a member of the crew\n",
    "#\n",
    "df[\"crew\"] = df[\"crew\"].astype(bool)\n",
    "#\n",
    "# class - 1 - first class, 2 - 2nd class, 3 - 3rd class (This is the most interesting data, since it shows that 3rd\n",
    "#      class passengers weren't given the same chance to board the lifeboats as 1st and 2nd class passengers)\n",
    "#\n",
    "df[\"pclass\"] = df[\"pclass\"].astype(int)\n"
   ]
  },
  {
   "cell_type": "code",
   "execution_count": null,
   "metadata": {},
   "outputs": [],
   "source": [
    "#\n",
    "# Display the raw data showing how many died and how many survived.  These counts vary based on what website you \n",
    "# got them from.\n",
    "#\n",
    "print(df.survived.value_counts()"
   ]
  },
  {
   "cell_type": "code",
   "execution_count": null,
   "metadata": {},
   "outputs": [],
   "source": [
    "df.gender.value_counts()"
   ]
  },
  {
   "cell_type": "code",
   "execution_count": null,
   "metadata": {},
   "outputs": [],
   "source": [
    "df.pclass.value_counts()"
   ]
  },
  {
   "cell_type": "code",
   "execution_count": null,
   "metadata": {},
   "outputs": [],
   "source": [
    "df.passenger.value_counts()\n"
   ]
  },
  {
   "cell_type": "code",
   "execution_count": null,
   "metadata": {},
   "outputs": [],
   "source": [
    "df.crew.value_counts()"
   ]
  },
  {
   "cell_type": "code",
   "execution_count": null,
   "metadata": {
    "scrolled": true
   },
   "outputs": [],
   "source": [
    "sns.lmplot(x=\"age\", y=\"survived\", col=\"gender\", hue=\"pclass\", data=df, logistic=True)"
   ]
  },
  {
   "cell_type": "code",
   "execution_count": null,
   "metadata": {},
   "outputs": [],
   "source": [
    "sns.lmplot(x=\"age\", y=\"survived\", hue=\"pclass\", data=df, logistic=True)\n",
    "sns.barplot(x=\"age\", y=\"survived\", hue=\"pclass\", data=df)"
   ]
  },
  {
   "cell_type": "code",
   "execution_count": null,
   "metadata": {},
   "outputs": [],
   "source": [
    "conn = sqlite3.connect(dbName)\n",
    "cur = conn.cursor()\n"
   ]
  },
  {
   "cell_type": "code",
   "execution_count": null,
   "metadata": {},
   "outputs": [],
   "source": [
    "sns.lmplot(x=\"age\", y=\"pclass\", hue=\"survived\", data=df, logistic=True)"
   ]
  },
  {
   "cell_type": "code",
   "execution_count": null,
   "metadata": {},
   "outputs": [],
   "source": []
  }
 ],
 "metadata": {
  "kernelspec": {
   "display_name": "Python 3",
   "language": "python",
   "name": "python3"
  },
  "language_info": {
   "codemirror_mode": {
    "name": "ipython",
    "version": 3
   },
   "file_extension": ".py",
   "mimetype": "text/x-python",
   "name": "python",
   "nbconvert_exporter": "python",
   "pygments_lexer": "ipython3",
   "version": "3.7.1"
  }
 },
 "nbformat": 4,
 "nbformat_minor": 2
}
