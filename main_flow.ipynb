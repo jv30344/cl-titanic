{
 "cells": [
  {
   "cell_type": "markdown",
   "metadata": {},
   "source": [
    "<center><h1>Titanic database Code Louisville Project</h1></center>\n",
    "<center><h2>Project for Python class - January, 2019</h2></center>\n",
    "\n",
    "\n",
    "<center>\n",
    "    <h2/>\n",
    "    <h5>Student name: John Vornberger</h5>\n",
    "    <h6>Course: Python/Sqlite3</h6>\n",
    "    <h6>OS Used: Windows 10</h6>\n",
    "</center>\n",
    "    \n",
    "\n",
    "<h4>Other necessary evils:</h4>\n",
    "<p>\n",
    "    Github Repository: <bold>jv30344/cl-titanic</bold><br>\n",
    "    Default Directory: C:/CL-Project <br>\n",
    "    Name of script to run: main_flow.ipynb\n",
    "    <br>\n",
    "    Default directory is set to C:/CL-Project \n",
    "<br>    \n",
    "<ol>\n",
    "    <li> Python </li>\n",
    "    <li> Pandas</li>\n",
    "    <li> Anaconda</li>\n",
    "    <li> Jupyter Notebook</li>\n",
    "    <li> Sqlite3</li>\n",
    "    <li> matplotlib (for graphs)</li>\n",
    "    <li> seaborn (also for graphs)</li>\n",
    "</ol>\n",
    "</p>\n",
    "<br>\n",
    "<p>\n",
    "    This project is based on data from several different sources containing passenger data from the Titanic.  I've worked       hard studying the data from several sources along with merging corrections and updates into my database.  It's still       not quite complete, but it'll do for this project.\n",
    "</p>\n"
   ]
  },
  {
   "cell_type": "code",
   "execution_count": null,
   "metadata": {},
   "outputs": [],
   "source": [
    "#\n",
    "# Pandas\n",
    "import pandas as pd\n",
    "#\n",
    "# Matplotlib\n",
    "from matplotlib import pyplot as plt\n",
    "import matplotlib.ticker as ticker\n",
    "#\n",
    "# Seaborn\n",
    "import seaborn as sns\n",
    "#\n",
    "# sqlite\n",
    "import sqlite3 as sql\n",
    "#"
   ]
  },
  {
   "cell_type": "markdown",
   "metadata": {},
   "source": [
    "<h3>Connect to the database</h3>"
   ]
  },
  {
   "cell_type": "code",
   "execution_count": null,
   "metadata": {},
   "outputs": [],
   "source": [
    "db = \"C:/CL-Project/Titanic.db\"\n",
    "print(\"Database - \" + db)\n",
    "#\n",
    "# Create database connection\n",
    "#\n",
    "conn = sql.connect(db)"
   ]
  },
  {
   "cell_type": "markdown",
   "metadata": {},
   "source": [
    "<h3>Pull the data from the database</h3>"
   ]
  },
  {
   "cell_type": "code",
   "execution_count": null,
   "metadata": {},
   "outputs": [],
   "source": [
    "#\n",
    "# Queries\n",
    "#\n",
    "sql_query_all = '''\n",
    "SELECT *\n",
    "FROM titanic_passenger_list;\n",
    "'''\n",
    "\n",
    "sql_query_pass_only = '''\n",
    "SELECT * \n",
    "FROM titanic_passenger_list\n",
    "where not crew;\n",
    "'''"
   ]
  },
  {
   "cell_type": "code",
   "execution_count": null,
   "metadata": {},
   "outputs": [],
   "source": [
    "#\n",
    "# Display all of the rows in the database\n",
    "# \n",
    "df = pd.read_sql_query(sql_query_all, conn)\n",
    "df\n",
    "#"
   ]
  },
  {
   "cell_type": "code",
   "execution_count": null,
   "metadata": {},
   "outputs": [],
   "source": [
    "### Change some of the data types for helping with graphing the data\n",
    "#\n",
    "# Define appropriate data types for display\n",
    "#\n",
    "df[\"gender\"] = df[\"gender\"].astype(str)         # Gender - String (M/F)\n",
    "df[\"survived\"] = df[\"survived\"].astype(bool)    # survived - Boolean: 0 = Did not survive, 1 = Survived\n",
    "df[\"age\"] = df[\"age\"].astype(int)               # Age - 0-100 is valid\n",
    "df[\"passenger\"] = df[\"passenger\"].astype(bool)  # Passenger/Crewmember 0 = Crew member,  1 = Passenger\n",
    "df[\"pclass\"] = df[\"pclass\"].astype(int)         # Passenger Class 0=Crew member, 1=1st Class, 2=2nd Class, 3=3rd Class"
   ]
  },
  {
   "cell_type": "markdown",
   "metadata": {},
   "source": [
    "<h3>This graph is interesting, but its getting a deprecation message.  Its still working though</h3>"
   ]
  },
  {
   "cell_type": "code",
   "execution_count": null,
   "metadata": {},
   "outputs": [],
   "source": [
    "# Scatterplot arguments\n",
    "sns.lmplot(x='survived', y='pclass', data=df,\n",
    "           fit_reg='false', \n",
    "           hue='gender')\n",
    "\n",
    "#           xlim=(0,1),\n",
    "#           ylim=(0,3),\n",
    "#           xticks=[0,1],\n",
    "#           yticks=[0,1,2,3])"
   ]
  },
  {
   "cell_type": "markdown",
   "metadata": {},
   "source": [
    "<h3>\n",
    "    Swarm Plot graph\n",
    "</h3>\n",
    "<h4>This is graph shows (by gender/class) survival rates</h4>\n",
    "    <ul>\n",
    "        <li>The crew (pclass 0) had more male survivors than female</li>\n",
    "        <li>According to my data, only 6 first class female passengers (out of a total of 327) perished in the sinking</li>\n",
    "        <li> * It's easy to see that steerage passengers (3rd class) did not do well. </li>\n",
    "    </ul>\n",
    "    <br>\n",
    "</h4>"
   ]
  },
  {
   "cell_type": "code",
   "execution_count": null,
   "metadata": {},
   "outputs": [],
   "source": [
    "# This runs for a while.  Please be patient\n",
    "\n",
    "sns.swarmplot(x='pclass', y='gender', hue='survived', data=df)\n",
    "\n",
    "# sns.countplot(x=\"pclass\", hue=\"survived\", data=df)"
   ]
  },
  {
   "cell_type": "code",
   "execution_count": null,
   "metadata": {},
   "outputs": [],
   "source": [
    "#\n",
    "# Display the raw data showing how many died and how many survived.  \n",
    "#\n",
    "df.survived.value_counts()"
   ]
  },
  {
   "cell_type": "code",
   "execution_count": null,
   "metadata": {},
   "outputs": [],
   "source": [
    "df.gender.value_counts()"
   ]
  },
  {
   "cell_type": "code",
   "execution_count": null,
   "metadata": {},
   "outputs": [],
   "source": [
    "df.pclass.value_counts()"
   ]
  },
  {
   "cell_type": "code",
   "execution_count": null,
   "metadata": {},
   "outputs": [],
   "source": [
    "df.passenger.value_counts()\n"
   ]
  },
  {
   "cell_type": "code",
   "execution_count": null,
   "metadata": {},
   "outputs": [],
   "source": [
    "df.crew.value_counts()"
   ]
  },
  {
   "cell_type": "code",
   "execution_count": null,
   "metadata": {
    "scrolled": true
   },
   "outputs": [],
   "source": [
    " sns.lmplot(x=\"age\", y=\"survived\", col=\"gender\", hue=\"pclass\", data=df, logistic=True)"
   ]
  },
  {
   "cell_type": "code",
   "execution_count": null,
   "metadata": {},
   "outputs": [],
   "source": [
    "sns.lmplot(x=\"age\", y=\"survived\", hue=\"pclass\", data=df, logistic=True)"
   ]
  },
  {
   "cell_type": "markdown",
   "metadata": {},
   "source": [
    "<h4>The graph below shows (by age/survived) and class the survival rate</h4>"
   ]
  },
  {
   "cell_type": "markdown",
   "metadata": {},
   "source": [
    "<h3>The graph below is like the one above except the gender is combined.<br>\n",
    "Pandas is getting a divide by zero on it so I commented it out. </h3>"
   ]
  },
  {
   "cell_type": "code",
   "execution_count": null,
   "metadata": {},
   "outputs": [],
   "source": [
    "# sns.lmplot(x=\"age\", y=\"pclass\", hue=\"survived\", data=df, logistic=True)"
   ]
  }
 ],
 "metadata": {
  "kernelspec": {
   "display_name": "Python 3",
   "language": "python",
   "name": "python3"
  },
  "language_info": {
   "codemirror_mode": {
    "name": "ipython",
    "version": 3
   },
   "file_extension": ".py",
   "mimetype": "text/x-python",
   "name": "python",
   "nbconvert_exporter": "python",
   "pygments_lexer": "ipython3",
   "version": "3.7.1"
  }
 },
 "nbformat": 4,
 "nbformat_minor": 2
}
